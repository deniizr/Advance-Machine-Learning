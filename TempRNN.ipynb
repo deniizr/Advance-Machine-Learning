{
 "cells": [
  {
   "cell_type": "markdown",
   "metadata": {
    "id": "9h-pNS_KaIbZ"
   },
   "source": [
    "# Lab 3: Deep Sequence Modeling"
   ]
  },
  {
   "cell_type": "markdown",
   "metadata": {},
   "source": [
    "## Deniz Rasouli Jambori (5307843)"
   ]
  },
  {
   "cell_type": "markdown",
   "metadata": {
    "id": "a5WGdTkeLOzp"
   },
   "source": [
    "The third lab session is about data that have a sequential structure that must be taken into account."
   ]
  },
  {
   "cell_type": "code",
   "execution_count": 108,
   "metadata": {
    "id": "4TNAZGt4aIbe"
   },
   "outputs": [],
   "source": [
    "from __future__ import print_function\n",
    "import tensorflow as tf\n",
    "import os, json, re\n",
    "import matplotlib.pyplot as plt\n",
    "import numpy as np\n",
    "from sklearn.model_selection import train_test_split\n",
    "from keras.preprocessing.text import Tokenizer\n",
    "from keras.preprocessing.sequence import pad_sequences\n",
    "import pandas as pd\n",
    "from tensorflow.keras.layers import Dense\n",
    "%matplotlib inline"
   ]
  },
  {
   "cell_type": "markdown",
   "metadata": {
    "id": "KnmA6CbEaIbv"
   },
   "source": [
    "# 3.1 Deal with sequential data\n",
    "<img src=\"https://drive.google.com/uc?id=1k6HwtWlMTkVJFuyBpeBGF2sApqxR-KRc\" width=\"600px\" align=\"right\"><br>\n",
    "In this lab we see Deep Learning models that can process sequential data (text, timeseries,..).<br>\n",
    "These models don’t take as input raw text: they only work with numeric tensors; **vectorizing** text is the process of transforming text into numeric tensors.<br><br><br>\n",
    "The different units into which you can break down text (words, characters) are called tokens; then if you apply a tokenization scheme, you associate numeric vectors with the generated tokens.<br>\n",
    "These vectors, packed into sequence tensors, are fed into Deep Neural Network.<br>\n",
    "There are multiple ways to associate a vector with a token: we will see One-Hot Encoding and Token Embedding.<br>\n",
    "In this section we are going to deal with:\n",
    "* 3.1.1 One-Hot Encoding\n",
    "* 3.1.2 Word embedding"
   ]
  },
  {
   "cell_type": "markdown",
   "metadata": {
    "id": "qhRTCGvGaIbz"
   },
   "source": [
    "## 3.1.1 One-Hot Encoding\n",
    "One-Hot Encoding consists of associating a unique integer index with every word and then turning this integer index $i$ into a binary vector of size $N$ (the size of the vocabulary); the vector is all zeros except for the $i$-th entry, which is 1.\n",
    "<img src=\"https://drive.google.com/uc?id=1OzK9t_WXQsaDuZoOTQSksLuNMubXm0gc\" width=\"400px\">"
   ]
  },
  {
   "cell_type": "markdown",
   "metadata": {
    "id": "u8hfjPNJaIb1"
   },
   "source": [
    "#### Try to perform One-Hot Encoding using Tokenizer\n",
    "Keras provides the Tokenizer class for preparing text documents for DL.<br>\n",
    "The Tokenizer must be constructed and then fit on either raw text documents or integer encoded text documents"
   ]
  },
  {
   "cell_type": "code",
   "execution_count": null,
   "metadata": {
    "colab": {
     "base_uri": "https://localhost:8080/"
    },
    "id": "0EPyke25aIb3",
    "outputId": "7f7bfc7a-78f0-4f74-a4d1-718717b72fbd"
   },
   "outputs": [
    {
     "name": "stdout",
     "output_type": "stream",
     "text": [
      "[[0. 0. 1. 1. 0. 0. 0. 0.]\n",
      " [0. 1. 0. 0. 1. 0. 0. 0.]\n",
      " [0. 0. 0. 0. 0. 1. 1. 0.]\n",
      " [0. 1. 0. 0. 0. 0. 0. 1.]]\n"
     ]
    }
   ],
   "source": [
    "# define 4 documents\n",
    "docs = ['Well done!','Good work','Great effort','nice work']\n",
    "\n",
    "# create the tokenizer\n",
    "tokenizer = Tokenizer()\n",
    "\n",
    "# fit the tokenizer on the documents\n",
    "tokenizer.fit_on_texts(docs)\n",
    "\n",
    "\n",
    "encoded_docs = tokenizer.texts_to_matrix(docs, mode='count')\n",
    "print(encoded_docs)"
   ]
  },
  {
   "cell_type": "markdown",
   "metadata": {
    "id": "M5SbwIX6fAoq"
   },
   "source": [
    "###  <font color=\"blueviolet\">Analysis and Comments: <font color=\"navy\"> Here we have 4 expression so our final output will consist of 4 vectors, and we have 8 tokens in total so each vector has 8 values which can be 1 or 0 according to the context of the expression that is store in that vector. For example we have \"work\" token twice, so as it can be seen in the second and forth vectors we have 1 value in the second column which probably indicate the word \"work\"."
   ]
  },
  {
   "cell_type": "markdown",
   "metadata": {
    "id": "eDycrywyaIb-"
   },
   "source": [
    "Some problems related to this kind of encoding are sparsity of the solution and the high dimensionality of the vector encoding of the tokens."
   ]
  },
  {
   "cell_type": "markdown",
   "metadata": {
    "id": "YHeXmpPfaIcB"
   },
   "source": [
    "## 3.1.2 Word embedding\n",
    "<img src=\"https://drive.google.com/uc?id=1YRcQ1_5n8Qay0GFoSLVrNcEKWeik5G3S\" width=\"400px\" align=\"right\"><br>\n",
    "The vector obtained from word embedding is dense and has lower dimensionality w.r.t One-Hot Encoding vector; the dimensionality of embedding space vector is an hyperparameter.<br>\n",
    "There are two ways to obtain word embeddings:<br>\n",
    "* May be learned jointly with the network\n",
    "* May use pre-trained word vectors (Word2Vec, GloVe,..)\n",
    "\n",
    "\n",
    "Word embeddings maps human language into a geometric space; in a reasonable embedding space synonyms are embedded into similar word vectors and the geometric distance between any two word vectors reflects the semantic distance between the associated words (words meaning different things are embedded at points far away from each other, whereas related words are closer).<br>\n",
    "How good is a word-embedding space depends on the specific task.<br>\n",
    "It is reasonable to learn a new embedding space with every new task: with backpropagation and Keras it reduces to learn the weights of the Embedding layer."
   ]
  },
  {
   "cell_type": "markdown",
   "metadata": {
    "id": "GFHFL8wSaIcF"
   },
   "source": [
    "### Learning Word Embeddings with the embedding layer\n",
    "#### Load imdb dataset\n",
    "This dataset contains movies reviews from IMDB, labeled by sentiment(positive/negative); reviews have been preprocessed, and each review is encoded as a sequence of word indexes(integers).<br>\n",
    "https://keras.io/datasets/#imdb-movie-reviews-sentiment-classification"
   ]
  },
  {
   "cell_type": "code",
   "execution_count": null,
   "metadata": {
    "id": "oOxdESRALOzv"
   },
   "outputs": [],
   "source": [
    "max_features = 10000\n",
    "maxlen = 50\n",
    "\n",
    "imdb = tf.keras.datasets.imdb\n",
    "(x_train, y_train), (x_test, y_test) = imdb.load_data(num_words=max_features)\n",
    "x_train, x_val, y_train, y_val = train_test_split(x_train, y_train, test_size=0.3, random_state=42)\n",
    "x_train = tf.keras.preprocessing.sequence.pad_sequences(x_train, maxlen=maxlen)\n",
    "x_test = tf.keras.preprocessing.sequence.pad_sequences(x_test, maxlen=maxlen)\n",
    "x_val=tf.keras.preprocessing.sequence.pad_sequences(x_val, maxlen=maxlen)\n"
   ]
  },
  {
   "cell_type": "markdown",
   "metadata": {
    "id": "a5muY3QYaIcK"
   },
   "source": [
    "#### Show the size of vocabulary and the most frequent words"
   ]
  },
  {
   "cell_type": "code",
   "execution_count": null,
   "metadata": {
    "colab": {
     "base_uri": "https://localhost:8080/"
    },
    "id": "JXB3wghhaIcL",
    "outputId": "0c2a1fb8-3c93-4b50-8d6b-7fd4df372dff"
   },
   "outputs": [
    {
     "name": "stdout",
     "output_type": "stream",
     "text": [
      "Downloading data from https://storage.googleapis.com/tensorflow/tf-keras-datasets/imdb_word_index.json\n",
      "1646592/1641221 [==============================] - 0s 0us/step\n",
      "1654784/1641221 [==============================] - 0s 0us/step\n",
      "Vocab size :  88584\n",
      "50 most common words: \n",
      "\n",
      "[('the', 1), ('and', 2), ('a', 3), ('of', 4), ('to', 5), ('is', 6), ('br', 7), ('in', 8), ('it', 9), ('i', 10), ('this', 11), ('that', 12), ('was', 13), ('as', 14), ('for', 15), ('with', 16), ('movie', 17), ('but', 18), ('film', 19), ('on', 20), ('not', 21), ('you', 22), ('are', 23), ('his', 24), ('have', 25), ('he', 26), ('be', 27), ('one', 28), ('all', 29), ('at', 30), ('by', 31), ('an', 32), ('they', 33), ('who', 34), ('so', 35), ('from', 36), ('like', 37), ('her', 38), ('or', 39), ('just', 40), ('about', 41), (\"it's\", 42), ('out', 43), ('has', 44), ('if', 45), ('some', 46), ('there', 47), ('what', 48), ('good', 49), ('more', 50)]\n"
     ]
    }
   ],
   "source": [
    "word_to_index = imdb.get_word_index()\n",
    "\n",
    "vocab_size = len(word_to_index)\n",
    "print('Vocab size : ', vocab_size)\n",
    "\n",
    "\n",
    "words_freq_list =words_freq_list = []\n",
    "[]\n",
    "for (k,v) in imdb.get_word_index().items():\n",
    "    words_freq_list.append((k,v))\n",
    "\n",
    "sorted_list = sorted(words_freq_list, key=lambda x: x[1])\n",
    "\n",
    "print(\"50 most common words: \\n\")\n",
    "print(sorted_list[0:50])"
   ]
  },
  {
   "cell_type": "markdown",
   "metadata": {
    "id": "1oHX-Otif4EJ"
   },
   "source": [
    "###  <font color=\"blueviolet\">Analysis and Comments: <font color=\"navy\"> In this part we have a preview of IMDB data. for example as it can be seen we have 88584 words or tokens in our dataset and the most frequent word is \"the\"."
   ]
  },
  {
   "cell_type": "code",
   "execution_count": null,
   "metadata": {
    "colab": {
     "base_uri": "https://localhost:8080/"
    },
    "id": "27uI4g4saIcQ",
    "outputId": "7ccbb7e7-1351-4e0e-a2d7-d2308c27f102"
   },
   "outputs": [
    {
     "data": {
      "text/plain": [
       "897"
      ]
     },
     "execution_count": 5,
     "metadata": {},
     "output_type": "execute_result"
    }
   ],
   "source": [
    "word_to_index['otherwise']"
   ]
  },
  {
   "cell_type": "markdown",
   "metadata": {
    "id": "_nhFdZ9KgUy2"
   },
   "source": [
    "###  <font color=\"blueviolet\">Analysis and Comments: <font color=\"navy\"> In the above part we call a single word \"otherwise\", and want to know its index and as it can be seen we got 897 which shows the index of this word in the vocabulary."
   ]
  },
  {
   "cell_type": "markdown",
   "metadata": {
    "id": "jXjwll2WaIda"
   },
   "source": [
    "# 3.2 Recurrent Neural Network\n",
    "Here https://colah.github.io/posts/2015-08-Understanding-LSTMs/ you can find a clear explanation about RNNs and LSTMs; the following is a summary of the main concepts.\n",
    "\n",
    "\n",
    "A major characteristic of some neural networks, as ConvNet, is that they have no memory: each input is processed independently, with no state kept in between inputs. Biological intelligence processes information incrementally while maintaining an internal model of what it’s processing, built from past information and constantly updated as new information comes in.<br>\n",
    "A recurrent neural network (RNN) adopts the same principle but in an extremely simplified version: it processes sequences by iterating through the sequence elements and maintaining a state containing information relative to what it has seen so far.\n",
    "\n",
    "<img src=\"https://drive.google.com/uc?id=1RaDXXygc0HJv6YyIAjU4_Nbw1bXzAhAJ\" width=\"650px\"><br>\n",
    "\n",
    "\n",
    "\n",
    "\n",
    "Each input $x_{i=t-1, t, t+1, ..}$ is combined with the internal state and then is applied an activation function (e.g. $tanh$); then the output is computed $h_{i=t-1, t, t+1, ..}$ and the internal state is updated.<br>\n",
    "In many cases, you just need the last output ($h_{i=last t}$ at the end of the loop), because it already contains information\n",
    "about the entire sequence.\n",
    "<img src=\"https://drive.google.com/uc?id=1RtulDLKQnzZTSbBsD2n7TIlRVEaESB8o\" width=\"550px\">\n"
   ]
  },
  {
   "cell_type": "markdown",
   "metadata": {
    "id": "vL10YVWTaIdi"
   },
   "source": [
    "#### Create the model\n",
    "In the following sections we will develop different models. Be careful to the fact that we are dealing with a binary classification problem!"
   ]
  },
  {
   "cell_type": "markdown",
   "metadata": {
    "id": "PaxyG_K4hKkF"
   },
   "source": [
    "###  <font color=\"blueviolet\">Analysis and Comments: <font color=\"navy\"> The point that we can consider for the binary classification problem is that we should put o a single neuron in the output part of the last Dense layer."
   ]
  },
  {
   "cell_type": "code",
   "execution_count": null,
   "metadata": {
    "id": "3PCby93EaIdi"
   },
   "outputs": [],
   "source": [
    "model = tf.keras.Sequential()\n",
    "model.add(tf.keras.layers.Embedding(max_features, 16))\n",
    "\n",
    "# Complete the model, it should be made by at least:\n",
    "# 1 SimpleRNN layer\n",
    "model.add(tf.keras.Input(shape=(1000,)))\n",
    "model.add(tf.keras.layers.SimpleRNN(64,activation=\"tanh\"))\n",
    "# 1 Dense layer\n",
    "dense_layer = Dense(1,activation='sigmoid')\n",
    "# Add the dense layer to the model\n",
    "model.add(dense_layer)\n",
    "model.compile(optimizer='rmsprop', loss='binary_crossentropy', metrics=['acc'])"
   ]
  },
  {
   "cell_type": "markdown",
   "metadata": {
    "id": "4JTBSi5TaIdp"
   },
   "source": [
    "#### Train the model"
   ]
  },
  {
   "cell_type": "code",
   "execution_count": null,
   "metadata": {
    "colab": {
     "base_uri": "https://localhost:8080/"
    },
    "id": "DamvGVOpaIdq",
    "outputId": "2b9641cf-ef14-4e33-8aa6-1d3dc64cc86e"
   },
   "outputs": [
    {
     "name": "stdout",
     "output_type": "stream",
     "text": [
      "Epoch 1/5\n",
      "137/137 [==============================] - 14s 93ms/step - loss: 0.6482 - acc: 0.6121 - val_loss: 0.5535 - val_acc: 0.7629\n",
      "Epoch 2/5\n",
      "137/137 [==============================] - 13s 96ms/step - loss: 0.4440 - acc: 0.8045 - val_loss: 0.4838 - val_acc: 0.7757\n",
      "Epoch 3/5\n",
      "137/137 [==============================] - 13s 92ms/step - loss: 0.3451 - acc: 0.8548 - val_loss: 0.4264 - val_acc: 0.8077\n",
      "Epoch 4/5\n",
      "137/137 [==============================] - 12s 90ms/step - loss: 0.2835 - acc: 0.8847 - val_loss: 0.4597 - val_acc: 0.8025\n",
      "Epoch 5/5\n",
      "137/137 [==============================] - 12s 89ms/step - loss: 0.2230 - acc: 0.9151 - val_loss: 0.4998 - val_acc: 0.8023\n",
      "547/547 [==============================] - 5s 9ms/step - loss: 0.1369 - acc: 0.9513\n",
      "782/782 [==============================] - 7s 9ms/step - loss: 0.4981 - acc: 0.7997\n",
      "Train: 0.951, Test: 0.800\n"
     ]
    }
   ],
   "source": [
    "# Train your model here\n",
    "\n",
    "history = model.fit(x_train, y_train, validation_data=(x_val, y_val), epochs=5, batch_size=128)\n",
    "_, train_acc = model.evaluate(x_train, y_train, verbose=1)\n",
    "_, test_acc = model.evaluate(x_test, y_test, verbose=1)\n",
    "print('Train: %.3f, Test: %.3f' % (train_acc, test_acc))"
   ]
  },
  {
   "cell_type": "markdown",
   "metadata": {
    "id": "WpwRh7rDRgz1"
   },
   "source": [
    "### <font color=\"blueviolet\">Comment and Analysis: <font color=\"navy\"> For the single layer model, I will do some analysis by changing the batch size and epoches in order to compare what result we will get in terms of validation and train accuracy by changing these two parameters. An important point is about the number of epoches that we use for this model. I used 10,30 and 50 epoches, as I did for CNN and DNN, but I realized that RNN model tends to become overfitted sooner than the others so I cahnge my epoches to 1, 5 ,10 and 20 to have a better observation of the changes."
   ]
  },
  {
   "cell_type": "markdown",
   "metadata": {
    "id": "iRVCIhOnSai8"
   },
   "source": [
    "### <font color=\"navy\"> Below there is the table that filled and help us to understand the variation of test and train accuracy which obtained by changing the batch size and number of epoches:"
   ]
  },
  {
   "cell_type": "markdown",
   "metadata": {
    "id": "cN1Ob2x4TONC"
   },
   "source": [
    "![m1t.PNG](data:image/png;base64,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)"
   ]
  },
  {
   "cell_type": "markdown",
   "metadata": {
    "id": "yR8ObBL2Shr0"
   },
   "source": [
    "### <font color=\"navy\"> First of all looking at this plot we can see that by increasing the number of epoches, our model will face an increasment in terms of train accuracy, in which we will have a nearly 100% accurately learning model by the 20th epoch. This showing an overfitting of our model cause in a real situation our model cannot learn 100% a=but in this simple model our architecture learn very fast due to the fact that we have only one layer and fewer number of parameters. So in the very first epoches our modle achieve its best and real accuracy but then from one point onwards even if the train improve, we can see that test accuracy reduces. For instance, with 5 epoches we will have the highst accuracy for both train and test sets but after that when we have 10 epoches, the train increased when we will see a decreasing trend for test set. This shows that with having 10 epoches our model passed its best performance point and entered an overfitted condition. Another point is the fact that by having batch size=8, our model can tolerate higher number of epoches in comparison to other batch sizes so I can conclude that for smaller batch sizes our model tend to reach to the overfitted condition later than the bigger batch sizes. In the above table for 5 epoches all the batch sizes reached the best performance and after that we will see reduction period while for batch size=8, the best performance is related to 10 epoches.Having said so, if I want to describe the effect of batch size that I understood I would say batch size impacts learning significantly. What happens when we put a batch through your network is that you average the gradients. The concept is that if your batch size is big enough, this will provide a stable enough estimate of what the gradient of the full dataset would be. By taking samples from your dataset, you estimate the gradient while reducing computational cost significantly. The lower you go, the less accurate your esttimate will be, however in some cases these noisy gradients can actually help escape local minima. When it is too low, your network weights can just jump around if your data is noisy and it might be unable to learn or it converges very slowly, thus negatively impacting total computation time."
   ]
  },
  {
   "cell_type": "code",
   "execution_count": null,
   "metadata": {
    "id": "H5vtqdoL8gQl"
   },
   "outputs": [],
   "source": [
    "def plot_history(history):\n",
    "    # Plot training & validation accuracy values\n",
    "    plt.plot(history.history['acc'])\n",
    "    plt.plot(history.history['val_acc'])\n",
    "    plt.title('Model accuracy')\n",
    "    plt.ylabel('Accuracy')\n",
    "    plt.xlabel('Epoch')\n",
    "    plt.legend(['Train', 'Val'], loc='upper left')\n",
    "    plt.show()\n",
    "\n",
    "    # Plot training & validation loss values\n",
    "    plt.plot(history.history['loss'])\n",
    "    plt.plot(history.history['val_loss'])\n",
    "    plt.title('Model loss')\n",
    "    plt.ylabel('Loss')\n",
    "    plt.xlabel('Epoch')\n",
    "    plt.legend(['Train', 'Val'], loc='upper left')\n",
    "    plt.show()"
   ]
  },
  {
   "cell_type": "code",
   "execution_count": null,
   "metadata": {
    "colab": {
     "base_uri": "https://localhost:8080/",
     "height": 573
    },
    "id": "pt-M_A7OaIds",
    "outputId": "20ccf890-79c3-404f-ee5b-91f97a40655b"
   },
   "outputs": [
    {
     "data": {
      "image/png": "[encoded data removed]",
      "text/plain": [
       "<Figure size 432x288 with 1 Axes>"
      ]
     },
     "metadata": {
      "needs_background": "light"
     },
     "output_type": "display_data"
    },
    {
     "data": {
      "image/png": "[encoded data removed]",
      "text/plain": [
       "<Figure size 432x288 with 1 Axes>"
      ]
     },
     "metadata": {
      "needs_background": "light"
     },
     "output_type": "display_data"
    }
   ],
   "source": [
    "plot_history(history)"
   ]
  },
  {
   "cell_type": "markdown",
   "metadata": {
    "id": "7pZ5tcAjaIdx"
   },
   "source": [
    "#### Evaluate the model"
   ]
  },
  {
   "cell_type": "code",
   "execution_count": null,
   "metadata": {
    "colab": {
     "base_uri": "https://localhost:8080/"
    },
    "id": "aDbsgw_5aIdy",
    "outputId": "85c632f5-11c8-487e-f7db-acbc8fff97dc"
   },
   "outputs": [
    {
     "name": "stdout",
     "output_type": "stream",
     "text": [
      "782/782 [==============================] - 7s 9ms/step - loss: 0.4981 - acc: 0.7997\n",
      "Test accuracy: 0.800, Test loss: 0.498\n"
     ]
    }
   ],
   "source": [
    "test_loss, test_acc = model.evaluate(x_test, y_test, verbose=1)\n",
    "print('Test accuracy: %.3f, Test loss: %.3f' % (test_acc,test_loss))"
   ]
  },
  {
   "cell_type": "markdown",
   "metadata": {
    "id": "is6FCRVRaId0"
   },
   "source": [
    "#### Try to build a new model where you stack several recurrent layers.\n",
    "In such a setup, you have to get all of the intermediate layers to return full sequence of outputs. This is needed to return batch size, timesteps, hidden state. By doing this the output should contain all historical generated outputs along with time stamps (3D). This way the next layer can work further on the data."
   ]
  },
  {
   "cell_type": "code",
   "execution_count": null,
   "metadata": {
    "id": "eExHNhMraId1"
   },
   "outputs": [],
   "source": [
    "# Build the model. It should be made by at least:\n",
    "# 1 Embedding layer\n",
    "# More than 1 SimpleRNN layer, do not forget to put the return_sequences parameter to True \n",
    "# 1 Dense layer\n",
    "\n",
    "multi_model = tf.keras.Sequential()\n",
    "multi_model.add(tf.keras.layers.Embedding(max_features, 16))\n",
    "# Complete the model, it should be made by at least:\n",
    "# 1 SimpleRNN layer\n",
    "multi_model.add(tf.keras.Input(shape=(1000,)))\n",
    "multi_model.add(tf.keras.layers.SimpleRNN(16,activation=\"tanh\",return_sequences=True))\n",
    "multi_model.add(tf.keras.layers.SimpleRNN(16,activation=\"tanh\",return_sequences=True))\n",
    "multi_model.add(tf.keras.layers.SimpleRNN(16,activation=\"tanh\",return_sequences=True))\n",
    "# 1 Dense layer\n",
    "dense_layer = Dense(1,activation='sigmoid')\n",
    "multi_model.add(dense_layer)\n",
    "multi_model.compile(optimizer='rmsprop', loss='binary_crossentropy', metrics=['acc'])"
   ]
  },
  {
   "cell_type": "markdown",
   "metadata": {
    "id": "xJlV5HynaId_"
   },
   "source": [
    "#### Train the model"
   ]
  },
  {
   "cell_type": "markdown",
   "metadata": {
    "id": "ANUfUuW8v583"
   },
   "source": [
    "###  <font color=\"blueviolet\">Analysis and Comments: <font color=\"navy\"> You should reshape your labels as 2d-tensor (the first dimension will be the batch dimension and the second the scalar label):"
   ]
  },
  {
   "cell_type": "code",
   "execution_count": null,
   "metadata": {
    "colab": {
     "base_uri": "https://localhost:8080/"
    },
    "id": "rWm__m8RaIeC",
    "outputId": "54e0c7ca-c14e-422b-f31b-111a8005de0e"
   },
   "outputs": [
    {
     "name": "stdout",
     "output_type": "stream",
     "text": [
      "Epoch 1/5\n",
      "137/137 [==============================] - 38s 253ms/step - loss: 0.6313 - acc: 0.6244 - val_loss: 0.5750 - val_acc: 0.6885\n",
      "Epoch 2/5\n",
      "137/137 [==============================] - 32s 237ms/step - loss: 0.5190 - acc: 0.7329 - val_loss: 0.5597 - val_acc: 0.7059\n",
      "Epoch 3/5\n",
      "137/137 [==============================] - 34s 248ms/step - loss: 0.4760 - acc: 0.7629 - val_loss: 0.5600 - val_acc: 0.7079\n",
      "Epoch 4/5\n",
      "137/137 [==============================] - 33s 244ms/step - loss: 0.4521 - acc: 0.7779 - val_loss: 0.5615 - val_acc: 0.7085\n",
      "Epoch 5/5\n",
      "137/137 [==============================] - 32s 237ms/step - loss: 0.4304 - acc: 0.7887 - val_loss: 0.5653 - val_acc: 0.7080\n",
      "547/547 [==============================] - 12s 22ms/step - loss: 0.3961 - acc: 0.8125\n",
      "782/782 [==============================] - 15s 20ms/step - loss: 0.5756 - acc: 0.7014\n",
      "Train: 0.813, Test: 0.701\n"
     ]
    }
   ],
   "source": [
    "# Train your model here\n",
    "y_train_ = np.asarray(y_train).astype('float32').reshape((-1,1))\n",
    "y_test_ = np.asarray(y_test).astype('float32').reshape((-1,1))\n",
    "y_val_ = np.asarray(y_val).astype('float32').reshape((-1,1))\n",
    "\n",
    "second_history = multi_model.fit(x_train, y_train_, validation_data=(x_val, y_val_), epochs=5, batch_size=128)\n",
    "_, train_acc = multi_model.evaluate(x_train, y_train_, verbose=1)\n",
    "_, test_acc = multi_model.evaluate(x_test, y_test_, verbose=1)\n",
    "print('Train: %.3f, Test: %.3f' % (train_acc, test_acc))"
   ]
  },
  {
   "cell_type": "markdown",
   "metadata": {
    "id": "oMu3T7yaJAap"
   },
   "source": [
    "### <font color=\"blueviolet\">Comment and Analysis: <font color=\"navy\"> I have run this model with with different epoches but as I increase the number of epoches ( above 5 for instance) the test accuracy is reducing to a great extend. So I prefered to use 5 epoches with a normal batch size which is 128 as I observed from previous model. In terms of the neurons that we should put in each layer, as I observed, when I increase the number of nodes in each layer, the plot that I obtained have great fluctuations so  I think making the model more complicated in terms of number of neurons is making it confused and it cannot have a stable performance spetially in the case of loss values."
   ]
  },
  {
   "cell_type": "code",
   "execution_count": null,
   "metadata": {
    "id": "8paaWitjxdOa"
   },
   "outputs": [],
   "source": [
    "def plot_history(history):\n",
    "    # Plot training & validation accuracy values\n",
    "    plt.plot(second_history.history['acc'])\n",
    "    plt.plot(second_history.history['val_acc'])\n",
    "    plt.title('Model accuracy')\n",
    "    plt.ylabel('Accuracy')\n",
    "    plt.xlabel('Epoch')\n",
    "    plt.legend(['Train', 'Val'], loc='upper left')\n",
    "    plt.show()\n",
    "\n",
    "    # Plot training & validation loss values\n",
    "    plt.plot(second_history.history['loss'])\n",
    "    plt.plot(second_history.history['val_loss'])\n",
    "    plt.title('Model loss')\n",
    "    plt.ylabel('Loss')\n",
    "    plt.xlabel('Epoch')\n",
    "    plt.legend(['Train', 'Val'], loc='upper left')\n",
    "    plt.show()"
   ]
  },
  {
   "cell_type": "code",
   "execution_count": null,
   "metadata": {
    "colab": {
     "base_uri": "https://localhost:8080/",
     "height": 573
    },
    "id": "SNdh2-0haIeI",
    "outputId": "703abf02-80e4-4ec6-a7bc-b7942510c8be"
   },
   "outputs": [
    {
     "data": {
      "image/png": "[encoded data removed]",
      "text/plain": [
       "<Figure size 432x288 with 1 Axes>"
      ]
     },
     "metadata": {
      "needs_background": "light"
     },
     "output_type": "display_data"
    },
    {
     "data": {
      "image/png": "[encoded data removed]",
      "text/plain": [
       "<Figure size 432x288 with 1 Axes>"
      ]
     },
     "metadata": {
      "needs_background": "light"
     },
     "output_type": "display_data"
    }
   ],
   "source": [
    "plot_history(second_history)"
   ]
  },
  {
   "cell_type": "markdown",
   "metadata": {
    "id": "DQyeyx0gKWSp"
   },
   "source": [
    "### <font color=\"blueviolet\">Comment and Analysis: <font color=\"navy\"> The main form of this plot is the same for the previous one. As we increase the epoches we will have better train performance but the test accuracy first increase and then become stable until from one point onwards model overfittes and got more and more error and the accuracy of testing and validation decrease as well. In the case of loss again train loss reduce by the epoches increasment but the validation loss is some how stable in this case but if we have more epoches we can see that the loss in the case of validation will rise too."
   ]
  },
  {
   "cell_type": "markdown",
   "metadata": {
    "id": "AEdVU-XYaIeL"
   },
   "source": [
    "#### Evaluate the model"
   ]
  },
  {
   "cell_type": "markdown",
   "metadata": {
    "id": "k7VE3DnuLOz0"
   },
   "source": [
    "**What can you say about the obtained results? What about the comparison between these results and the ones obtained in the single layer RNN?**\n"
   ]
  },
  {
   "cell_type": "markdown",
   "metadata": {
    "id": "QcojcKX2UbQf"
   },
   "source": [
    "### <font color=\"blueviolet\">Comment and Analysis: <font color=\"navy\">As far as I observed, more layers can be better but also harder to train. As a general rule  1 hidden layer work with simple problems, like this, and two are enough to find reasonably complex features. All in all performance does not increase that much so we can opt to have a higher run time with more layers. I think having a single or maximum two layers can solve this problem with a less training and running time."
   ]
  },
  {
   "cell_type": "markdown",
   "metadata": {
    "id": "XdJA3ttvaIeP"
   },
   "source": [
    "# 3.3 Transformers\n",
    "<img src=\"https://media.arxiv-vanity.com/render-output/5487940/Figures/ModalNet-21.png\" width=\"250px\" align=\"right\"><br>\n",
    "One main drawback about RNNs is their capacity to remember long-term dependencies. To alleviate this problem different models have been proposed, like Long Short Term Memories (LSTM) and Transformers.<br>\n",
    "*Transformers* is one of the best available model nowadays to deal with different kind of data (text, images..) and obtain state of the art results.\n",
    "\n",
    "The key component in the Transformer architecture is the Attention layer, that helps the encoder look at other words in the input sentence as it encodes a specific word. The attention mechanism, in theory, and given enough compute resources, have a wider window to reference from, therefore being capable of using the **entire context** of the text.\n",
    "\n",
    "\n"
   ]
  },
  {
   "cell_type": "markdown",
   "metadata": {
    "id": "x0KJgSymaIeR"
   },
   "source": [
    "#### Create Transformer model in TensorFlow"
   ]
  },
  {
   "cell_type": "code",
   "execution_count": 109,
   "metadata": {
    "id": "BHVtSQFzahRe"
   },
   "outputs": [],
   "source": [
    "class TransformerBlock(tf.keras.layers.Layer):\n",
    "    def __init__(self, embed_dim, num_heads, ff_dim, rate=0.1):\n",
    "        super(TransformerBlock, self).__init__()\n",
    "        self.att = tf.keras.layers.MultiHeadAttention(num_heads=num_heads, key_dim=embed_dim)\n",
    "        self.ffn = tf.keras.Sequential(\n",
    "            [tf.keras.layers.Dense(ff_dim, activation=\"relu\"), tf.keras.layers.Dense(embed_dim),]\n",
    "        )\n",
    "        self.layernorm1 = tf.keras.layers.LayerNormalization(epsilon=1e-6)\n",
    "        self.layernorm2 = tf.keras.layers.LayerNormalization(epsilon=1e-6)\n",
    "        self.dropout1 = tf.keras.layers.Dropout(rate)\n",
    "        self.dropout2 = tf.keras.layers.Dropout(rate)\n",
    "\n",
    "    def call(self, inputs, training):\n",
    "        attn_output = self.att(inputs, inputs)\n",
    "        attn_output = self.dropout1(attn_output, training=training)\n",
    "        out1 = self.layernorm1(inputs + attn_output)\n",
    "        ffn_output = self.ffn(out1)\n",
    "        ffn_output = self.dropout2(ffn_output, training=training)\n",
    "        return self.layernorm2(out1 + ffn_output)"
   ]
  },
  {
   "cell_type": "code",
   "execution_count": 110,
   "metadata": {
    "id": "Px6QAO7jac2u"
   },
   "outputs": [],
   "source": [
    "class TokenAndPositionEmbedding(tf.keras.layers.Layer):\n",
    "    def __init__(self, maxlen, vocab_size, embed_dim):\n",
    "        super(TokenAndPositionEmbedding, self).__init__()\n",
    "        self.token_emb = tf.keras.layers.Embedding(input_dim=vocab_size, output_dim=embed_dim)\n",
    "        self.pos_emb = tf.keras.layers.Embedding(input_dim=maxlen, output_dim=embed_dim)\n",
    "\n",
    "    def call(self, x):\n",
    "        maxlen = tf.shape(x)[-1]\n",
    "        positions = tf.range(start=0, limit=maxlen, delta=1)\n",
    "        positions = self.pos_emb(positions)\n",
    "        x = self.token_emb(x)\n",
    "        return x + positions"
   ]
  },
  {
   "cell_type": "code",
   "execution_count": null,
   "metadata": {
    "id": "d15KAMKpaIeR"
   },
   "outputs": [],
   "source": [
    "from tensorflow import keras\n",
    "from tensorflow.keras import layers\n",
    "embed_dim = 32  # Embedding size for each token\n",
    "num_heads = 2  # Number of attention heads\n",
    "ff_dim = 32  # Hidden layer size in feed forward network inside transformer\n",
    "\n",
    "# Build the model. It should be made by at least:\n",
    "# 1 TokenAndPositionEmbedding layer with maxlen, vocab_size and embed_dim as arguments\n",
    "# 1 TransformerBlock layer with embed_dim, num_heads and ff_dim as arguments\n",
    "# 1 GlobalAveragePooling1D layer\n",
    "# 2 Dense layers \n",
    "\n",
    "inputs = layers.Input(shape=(maxlen,))\n",
    "embedding_layer = TokenAndPositionEmbedding(maxlen, vocab_size, embed_dim)\n",
    "x = embedding_layer(inputs)\n",
    "transformer_block = TransformerBlock(embed_dim, num_heads, ff_dim)\n",
    "x = transformer_block(x)\n",
    "x = layers.GlobalAveragePooling1D()(x)\n",
    "x = layers.Dropout(0.1)(x)\n",
    "x = layers.Dense(20, activation=\"relu\")(x)\n",
    "x = layers.Dropout(0.1)(x)\n",
    "outputs = layers.Dense(2, activation=\"softmax\")(x)\n",
    "transformers_model = keras.Model(inputs=inputs, outputs=outputs)\n",
    "\n",
    "transformers_model.compile(optimizer=\"adam\", loss=\"sparse_categorical_crossentropy\", metrics=[\"accuracy\"])\n",
    "\n",
    "\n"
   ]
  },
  {
   "cell_type": "markdown",
   "metadata": {
    "id": "JPz5KvjAaIeV"
   },
   "source": [
    "#### Train the model"
   ]
  },
  {
   "cell_type": "code",
   "execution_count": null,
   "metadata": {
    "colab": {
     "base_uri": "https://localhost:8080/"
    },
    "id": "u6QTdfzZaIeW",
    "outputId": "f437647b-4ea0-4da8-d6bc-74c6ac71c29f"
   },
   "outputs": [
    {
     "name": "stdout",
     "output_type": "stream",
     "text": [
      "Epoch 1/5\n",
      "137/137 [==============================] - 5s 21ms/step - loss: 0.5295 - accuracy: 0.7226 - val_loss: 0.4251 - val_accuracy: 0.8017\n",
      "Epoch 2/5\n",
      "137/137 [==============================] - 3s 18ms/step - loss: 0.3423 - accuracy: 0.8562 - val_loss: 0.4278 - val_accuracy: 0.8028\n",
      "Epoch 3/5\n",
      "137/137 [==============================] - 3s 18ms/step - loss: 0.2703 - accuracy: 0.8938 - val_loss: 0.4709 - val_accuracy: 0.7987\n",
      "Epoch 4/5\n",
      "137/137 [==============================] - 2s 18ms/step - loss: 0.2293 - accuracy: 0.9133 - val_loss: 0.5094 - val_accuracy: 0.7953\n",
      "Epoch 5/5\n",
      "137/137 [==============================] - 3s 19ms/step - loss: 0.1989 - accuracy: 0.9246 - val_loss: 0.6068 - val_accuracy: 0.7836\n",
      "547/547 [==============================] - 4s 6ms/step - loss: 0.1250 - accuracy: 0.9607\n",
      "782/782 [==============================] - 5s 6ms/step - loss: 0.6046 - accuracy: 0.7824\n",
      "Train: 0.961, Test: 0.782\n"
     ]
    }
   ],
   "source": [
    "# Train your model here\n",
    "third_history =  transformers_model.fit(x_train, y_train, batch_size=128, epochs=5, validation_data=(x_val, y_val))\n",
    "_, train_acc = transformers_model.evaluate(x_train, y_train_, verbose=1)\n",
    "_, test_acc = transformers_model.evaluate(x_test, y_test_, verbose=1)\n",
    "print('Train: %.3f, Test: %.3f' % (train_acc, test_acc))\n",
    "\n"
   ]
  },
  {
   "cell_type": "code",
   "execution_count": null,
   "metadata": {
    "id": "4lXztx6WPLOp"
   },
   "outputs": [],
   "source": [
    "def plot_history(history):\n",
    "    # Plot training & validation accuracy values\n",
    "    plt.plot(third_history.history['accuracy'])\n",
    "    plt.plot(third_history.history['val_accuracy'])\n",
    "    plt.title('Model accuracy')\n",
    "    plt.ylabel('Accuracy')\n",
    "    plt.xlabel('Epoch')\n",
    "    plt.legend(['Train', 'Val'], loc='upper left')\n",
    "    plt.show()\n",
    "\n",
    "    # Plot training & validation loss values\n",
    "    plt.plot(third_history.history['loss'])\n",
    "    plt.plot(third_history.history['val_loss'])\n",
    "    plt.title('Model loss')\n",
    "    plt.ylabel('Loss')\n",
    "    plt.xlabel('Epoch')\n",
    "    plt.legend(['Train', 'Val'], loc='upper left')\n",
    "    plt.show()"
   ]
  },
  {
   "cell_type": "code",
   "execution_count": null,
   "metadata": {
    "colab": {
     "base_uri": "https://localhost:8080/",
     "height": 573
    },
    "id": "XELeM5_KaIef",
    "outputId": "da66a169-c2ea-4af1-e9df-853e383fb73c"
   },
   "outputs": [
    {
     "data": {
      "image/png": "[encoded data removed]",
      "text/plain": [
       "<Figure size 432x288 with 1 Axes>"
      ]
     },
     "metadata": {
      "needs_background": "light"
     },
     "output_type": "display_data"
    },
    {
     "data": {
      "image/png": "[encoded data removed]",
      "text/plain": [
       "<Figure size 432x288 with 1 Axes>"
      ]
     },
     "metadata": {
      "needs_background": "light"
     },
     "output_type": "display_data"
    }
   ],
   "source": [
    "plot_history(third_history)"
   ]
  },
  {
   "cell_type": "markdown",
   "metadata": {
    "id": "WPSLRTciaIei"
   },
   "source": [
    "#### Evaluate the model"
   ]
  },
  {
   "cell_type": "code",
   "execution_count": null,
   "metadata": {
    "colab": {
     "base_uri": "https://localhost:8080/"
    },
    "id": "ovW6sEhNaIej",
    "outputId": "084ab30b-57d4-4e64-9568-4102860279c3"
   },
   "outputs": [
    {
     "name": "stdout",
     "output_type": "stream",
     "text": [
      "782/782 [==============================] - 5s 6ms/step - loss: 0.6046 - accuracy: 0.7824\n",
      "Test accuracy: 0.782, Test loss: 0.605\n"
     ]
    }
   ],
   "source": [
    "test_loss, test_acc = transformers_model.evaluate(x_test, y_test, verbose=1)\n",
    "print('Test accuracy: %.3f, Test loss: %.3f' % (test_acc,test_loss))"
   ]
  },
  {
   "cell_type": "markdown",
   "metadata": {
    "id": "AanOBoUUVLAo"
   },
   "source": [
    "### <font color=\"blueviolet\">Comment and Analysis: <font color=\"navy\">I observe that the Transformer training is in general more stable compared to the RNN, although it also seems to overfit more, and thus shows more problems with generalization. Also I think the transformers are faster than the RNN. Due to the parallelization ability of the transformer mechanism, much more data can be processed in the same amount of time with transformer models."
   ]
  },
  {
   "cell_type": "markdown",
   "metadata": {
    "id": "-S0X9OvrLOz1"
   },
   "source": [
    "# 3.4 Reuters newswire classification dataset"
   ]
  },
  {
   "cell_type": "markdown",
   "metadata": {
    "id": "HTdZTloBLOz1"
   },
   "source": [
    "The reuters newswire classification dataset is a dataset of 11,228 newswires from Reuters, labeled over 46 topics. More information about the dataset and how to use it can be found here:\n",
    "https://keras.io/api/datasets/reuters/\n",
    "\n",
    "Try to build a new model dealing with this new dataset.\n",
    "Try to use both the RNN and the Transfomrers approach, and select the best of them. What do you expect will be the best? Be carefull that this domain shift will imply some changes in your code as it is not a binary classification problem anymore!"
   ]
  },
  {
   "cell_type": "code",
   "execution_count": 111,
   "metadata": {
    "colab": {
     "base_uri": "https://localhost:8080/"
    },
    "id": "kNDQjfiLLOz1",
    "outputId": "c6a0aec4-d7ca-4211-d431-c4e00660107b"
   },
   "outputs": [
    {
     "name": "stdout",
     "output_type": "stream",
     "text": [
      "46\n"
     ]
    }
   ],
   "source": [
    "max_features = 10000\n",
    "maxlen = 50\n",
    "\n",
    "reuters = tf.keras.datasets.reuters\n",
    "(x_train, y_train), (x_test, y_test) = tf.keras.datasets.reuters.load_data(num_words=max_features,path=\"reuters.npz\")\n",
    "x_train, x_val, y_train, y_val = train_test_split(x_train, y_train, test_size=0.3, random_state=42)\n",
    "num_classes = np.max(y_train) + 1\n",
    "print(num_classes)\n",
    "\n",
    "x_train = tf.keras.preprocessing.sequence.pad_sequences(x_train, maxlen=maxlen)\n",
    "x_test = tf.keras.preprocessing.sequence.pad_sequences(x_test, maxlen=maxlen)\n",
    "x_val  =   tf.keras.preprocessing.sequence.pad_sequences(x_val, maxlen=maxlen)"
   ]
  },
  {
   "cell_type": "markdown",
   "metadata": {
    "id": "YYobCNa4LOz1"
   },
   "source": [
    "#### Create model"
   ]
  },
  {
   "cell_type": "code",
   "execution_count": null,
   "metadata": {
    "id": "0LCRuwvhLOz1"
   },
   "outputs": [],
   "source": [
    "# Build the model.\n",
    "from keras.layers import Dense, Activation, Flatten\n",
    "last_model = tf.keras.Sequential()\n",
    "last_model.add(tf.keras.layers.Embedding(max_features, 1000))\n",
    "# Complete the model, it should be made by at least:\n",
    "# 1 SimpleRNN layer\n",
    "last_model.add(tf.keras.Input(shape=(1000,)))\n",
    "last_model.add(tf.keras.layers.SimpleRNN(256,activation=\"tanh\",return_sequences=True))\n",
    "\n",
    "\n",
    "# 1 Dense layer\n",
    "dense_layer = Dense(46,activation='sigmoid')\n",
    "last_model.add(dense_layer)\n",
    "last_model.add(Flatten())\n",
    "last_model.compile(optimizer='adam', loss='sparse_categorical_crossentropy', metrics=['acc'])"
   ]
  },
  {
   "cell_type": "markdown",
   "metadata": {
    "id": "CCkqhttLLOz1"
   },
   "source": [
    "#### Train the model"
   ]
  },
  {
   "cell_type": "code",
   "execution_count": null,
   "metadata": {
    "colab": {
     "base_uri": "https://localhost:8080/"
    },
    "id": "0W_A5xpALOz2",
    "outputId": "ed0bb3c3-8720-4ba4-9d58-d56a8f8040e8"
   },
   "outputs": [
    {
     "name": "stdout",
     "output_type": "stream",
     "text": [
      "Epoch 1/30\n",
      "50/50 [==============================] - 7s 92ms/step - loss: 4.4032 - acc: 0.3100 - val_loss: 2.5818 - val_acc: 0.3599\n",
      "Epoch 2/30\n",
      "50/50 [==============================] - 6s 116ms/step - loss: 2.2874 - acc: 0.4326 - val_loss: 2.3535 - val_acc: 0.4282\n",
      "Epoch 3/30\n",
      "50/50 [==============================] - 4s 85ms/step - loss: 1.9844 - acc: 0.4880 - val_loss: 2.3310 - val_acc: 0.4393\n",
      "Epoch 4/30\n",
      "50/50 [==============================] - 4s 86ms/step - loss: 1.7671 - acc: 0.5508 - val_loss: 2.3788 - val_acc: 0.4330\n",
      "Epoch 5/30\n",
      "50/50 [==============================] - 4s 85ms/step - loss: 1.6261 - acc: 0.5648 - val_loss: 2.4302 - val_acc: 0.4237\n",
      "Epoch 6/30\n",
      "50/50 [==============================] - 4s 86ms/step - loss: 1.5247 - acc: 0.5694 - val_loss: 2.4797 - val_acc: 0.4349\n",
      "Epoch 7/30\n",
      "50/50 [==============================] - 4s 84ms/step - loss: 1.4576 - acc: 0.5775 - val_loss: 2.5239 - val_acc: 0.4263\n",
      "Epoch 8/30\n",
      "50/50 [==============================] - 4s 83ms/step - loss: 1.4046 - acc: 0.5823 - val_loss: 2.5548 - val_acc: 0.4237\n",
      "Epoch 9/30\n",
      "50/50 [==============================] - 4s 84ms/step - loss: 1.3624 - acc: 0.5823 - val_loss: 2.6090 - val_acc: 0.4319\n",
      "Epoch 10/30\n",
      "50/50 [==============================] - 4s 84ms/step - loss: 1.3385 - acc: 0.5868 - val_loss: 2.6398 - val_acc: 0.4241\n",
      "Epoch 11/30\n",
      "50/50 [==============================] - 4s 83ms/step - loss: 1.3164 - acc: 0.5868 - val_loss: 2.6580 - val_acc: 0.4293\n",
      "Epoch 12/30\n",
      "50/50 [==============================] - 4s 84ms/step - loss: 1.3039 - acc: 0.5844 - val_loss: 2.6840 - val_acc: 0.4330\n",
      "Epoch 13/30\n",
      "50/50 [==============================] - 4s 82ms/step - loss: 1.2922 - acc: 0.5872 - val_loss: 2.7036 - val_acc: 0.4293\n",
      "Epoch 14/30\n",
      "50/50 [==============================] - 4s 82ms/step - loss: 1.2891 - acc: 0.5847 - val_loss: 2.7201 - val_acc: 0.4278\n",
      "Epoch 15/30\n",
      "50/50 [==============================] - 4s 82ms/step - loss: 1.2795 - acc: 0.5890 - val_loss: 2.7307 - val_acc: 0.4282\n",
      "Epoch 16/30\n",
      "50/50 [==============================] - 4s 84ms/step - loss: 1.2753 - acc: 0.5825 - val_loss: 2.7396 - val_acc: 0.4275\n",
      "Epoch 17/30\n",
      "50/50 [==============================] - 4s 83ms/step - loss: 1.2714 - acc: 0.5876 - val_loss: 2.7526 - val_acc: 0.4263\n",
      "Epoch 18/30\n",
      "50/50 [==============================] - 4s 84ms/step - loss: 1.2674 - acc: 0.5884 - val_loss: 2.7738 - val_acc: 0.4263\n",
      "Epoch 19/30\n",
      "50/50 [==============================] - 4s 85ms/step - loss: 1.2618 - acc: 0.5884 - val_loss: 2.7763 - val_acc: 0.4286\n",
      "Epoch 20/30\n",
      "50/50 [==============================] - 4s 85ms/step - loss: 1.2600 - acc: 0.5880 - val_loss: 2.7902 - val_acc: 0.4267\n",
      "Epoch 21/30\n",
      "50/50 [==============================] - 4s 85ms/step - loss: 1.2596 - acc: 0.5844 - val_loss: 2.7975 - val_acc: 0.4267\n",
      "Epoch 22/30\n",
      "50/50 [==============================] - 4s 83ms/step - loss: 1.2570 - acc: 0.5887 - val_loss: 2.8121 - val_acc: 0.4289\n",
      "Epoch 23/30\n",
      "50/50 [==============================] - 5s 101ms/step - loss: 1.2550 - acc: 0.5860 - val_loss: 2.8165 - val_acc: 0.4308\n",
      "Epoch 24/30\n",
      "50/50 [==============================] - 4s 87ms/step - loss: 1.2484 - acc: 0.5861 - val_loss: 2.8312 - val_acc: 0.4289\n",
      "Epoch 25/30\n",
      "50/50 [==============================] - 4s 83ms/step - loss: 1.2532 - acc: 0.5871 - val_loss: 2.8255 - val_acc: 0.4327\n",
      "Epoch 26/30\n",
      "50/50 [==============================] - 4s 84ms/step - loss: 1.2502 - acc: 0.5876 - val_loss: 2.8489 - val_acc: 0.4282\n",
      "Epoch 27/30\n",
      "50/50 [==============================] - 4s 86ms/step - loss: 1.2511 - acc: 0.5887 - val_loss: 2.8474 - val_acc: 0.4293\n",
      "Epoch 28/30\n",
      "50/50 [==============================] - 4s 85ms/step - loss: 1.2500 - acc: 0.5885 - val_loss: 2.8575 - val_acc: 0.4271\n",
      "Epoch 29/30\n",
      "50/50 [==============================] - 4s 82ms/step - loss: 1.2509 - acc: 0.5896 - val_loss: 2.8545 - val_acc: 0.4275\n",
      "Epoch 30/30\n",
      "50/50 [==============================] - 4s 83ms/step - loss: 1.2455 - acc: 0.5872 - val_loss: 2.8515 - val_acc: 0.4289\n",
      "197/197 [==============================] - 3s 13ms/step - loss: 1.2070 - acc: 0.6024\n",
      "71/71 [==============================] - 1s 13ms/step - loss: 2.9362 - acc: 0.4288\n",
      "Train: 0.602, Test: 0.429\n"
     ]
    }
   ],
   "source": [
    "# Train your model here\n",
    "y_train_ = np.asarray(y_train).astype('float32').reshape((-1,1))\n",
    "y_test_ = np.asarray(y_test).astype('float32').reshape((-1,1))\n",
    "y_val_ = np.asarray(y_val).astype('float32').reshape((-1,1))\n",
    "\n",
    "forth_history = last_model.fit(x_train, y_train, validation_data=(x_val, y_val), epochs=30, batch_size=128)\n",
    "_, train_acc = last_model.evaluate(x_train, y_train, verbose=1)\n",
    "_, test_acc = last_model.evaluate(x_test, y_test, verbose=1)\n",
    "print('Train: %.3f, Test: %.3f' % (train_acc, test_acc))"
   ]
  },
  {
   "cell_type": "code",
   "execution_count": null,
   "metadata": {
    "id": "M7WZMGspZGGI"
   },
   "outputs": [],
   "source": [
    "def plot_history(history):\n",
    "    # Plot training & validation accuracy values\n",
    "    plt.plot(forth_history.history['acc'])\n",
    "    plt.plot(forth_history.history['val_acc'])\n",
    "    plt.title('Model accuracy')\n",
    "    plt.ylabel('Accuracy')\n",
    "    plt.xlabel('Epoch')\n",
    "    plt.legend(['Train', 'Val'], loc='upper left')\n",
    "    plt.show()\n",
    "\n",
    "    # Plot training & validation loss values\n",
    "    plt.plot(forth_history.history['loss'])\n",
    "    plt.plot(forth_history.history['val_loss'])\n",
    "    plt.title('Model loss')\n",
    "    plt.ylabel('Loss')\n",
    "    plt.xlabel('Epoch')\n",
    "    plt.legend(['Train', 'Val'], loc='upper left')\n",
    "    plt.show()"
   ]
  },
  {
   "cell_type": "code",
   "execution_count": null,
   "metadata": {
    "colab": {
     "base_uri": "https://localhost:8080/",
     "height": 573
    },
    "id": "gDknvnMsLOz2",
    "outputId": "1662f71a-d272-48ae-b3cc-29fa33cc57aa"
   },
   "outputs": [
    {
     "data": {
      "image/png": "[encoded data removed]",
      "text/plain": [
       "<Figure size 432x288 with 1 Axes>"
      ]
     },
     "metadata": {
      "needs_background": "light"
     },
     "output_type": "display_data"
    },
    {
     "data": {
      "image/png": "[encoded data removed]",
      "text/plain": [
       "<Figure size 432x288 with 1 Axes>"
      ]
     },
     "metadata": {
      "needs_background": "light"
     },
     "output_type": "display_data"
    }
   ],
   "source": [
    "plot_history(forth_history)"
   ]
  },
  {
   "cell_type": "markdown",
   "metadata": {
    "id": "UMsHGlydLOz2"
   },
   "source": [
    "#### Evaluate the model"
   ]
  },
  {
   "cell_type": "code",
   "execution_count": null,
   "metadata": {
    "colab": {
     "base_uri": "https://localhost:8080/"
    },
    "id": "3wljwh3tLOz2",
    "outputId": "70702f97-7b50-4006-87a4-5d23c4321416"
   },
   "outputs": [
    {
     "name": "stdout",
     "output_type": "stream",
     "text": [
      "71/71 [==============================] - 2s 23ms/step - loss: 2.9362 - acc: 0.4288\n",
      "Test accuracy: 0.429, Test loss: 2.936\n"
     ]
    }
   ],
   "source": [
    "test_loss, test_acc = last_model.evaluate(x_test, y_test, verbose=1)\n",
    "print('Test accuracy: %.3f, Test loss: %.3f' % (test_acc,test_loss))"
   ]
  },
  {
   "cell_type": "code",
   "execution_count": 112,
   "metadata": {
    "colab": {
     "base_uri": "https://localhost:8080/"
    },
    "id": "b5-SZmJSs1wV",
    "outputId": "62bd3427-0815-47b3-dbca-9691a52dfef7"
   },
   "outputs": [
    {
     "name": "stdout",
     "output_type": "stream",
     "text": [
      "Vocab size :  30979\n"
     ]
    }
   ],
   "source": [
    "word_to_index = reuters.get_word_index()\n",
    "\n",
    "vocab_size = len(word_to_index)\n",
    "print('Vocab size : ', vocab_size)\n"
   ]
  },
  {
   "cell_type": "code",
   "execution_count": 113,
   "metadata": {
    "id": "Gxm2isaVnxER"
   },
   "outputs": [],
   "source": [
    "from tensorflow import keras\n",
    "from tensorflow.keras import layers\n",
    "embed_dim = 32  # Embedding size for each token\n",
    "num_heads = 2  # Number of attention heads\n",
    "ff_dim = 32  # Hidden layer size in feed forward network inside transformer\n",
    "\n",
    "# Build the model. It should be made by at least:\n",
    "# 1 TokenAndPositionEmbedding layer with maxlen, vocab_size and embed_dim as arguments\n",
    "# 1 TransformerBlock layer with embed_dim, num_heads and ff_dim as arguments\n",
    "# 1 GlobalAveragePooling1D layer\n",
    "# 2 Dense layers \n",
    "\n",
    "inputs = layers.Input(shape=(maxlen,))\n",
    "embedding_layer = TokenAndPositionEmbedding(maxlen, vocab_size, embed_dim)\n",
    "x = embedding_layer(inputs)\n",
    "transformer_block = TransformerBlock(embed_dim, num_heads, ff_dim)\n",
    "x = transformer_block(x)\n",
    "x = layers.GlobalAveragePooling1D()(x)\n",
    "x = layers.Dropout(0.1)(x)\n",
    "x = layers.Dense(128, activation=\"relu\")(x)\n",
    "x = layers.Dropout(0.1)(x)\n",
    "outputs = layers.Dense(46, activation=\"softmax\")(x)\n",
    "transformers_model_2 = keras.Model(inputs=inputs, outputs=outputs)\n",
    "\n",
    "transformers_model_2.compile(optimizer=\"adam\", loss=\"sparse_categorical_crossentropy\", metrics=[\"accuracy\"])"
   ]
  },
  {
   "cell_type": "code",
   "execution_count": 114,
   "metadata": {
    "colab": {
     "base_uri": "https://localhost:8080/"
    },
    "id": "3ucBJjVqnxIQ",
    "outputId": "40a77446-c886-4e3c-f4fd-e2cf0304e318"
   },
   "outputs": [
    {
     "name": "stdout",
     "output_type": "stream",
     "text": [
      "Epoch 1/10\n",
      "50/50 [==============================] - 3s 24ms/step - loss: 2.5238 - accuracy: 0.3879 - val_loss: 2.0077 - val_accuracy: 0.4920\n",
      "Epoch 2/10\n",
      "50/50 [==============================] - 1s 17ms/step - loss: 1.8006 - accuracy: 0.5454 - val_loss: 1.6903 - val_accuracy: 0.5770\n",
      "Epoch 3/10\n",
      "50/50 [==============================] - 1s 18ms/step - loss: 1.4742 - accuracy: 0.6443 - val_loss: 1.5052 - val_accuracy: 0.6315\n",
      "Epoch 4/10\n",
      "50/50 [==============================] - 1s 17ms/step - loss: 1.1922 - accuracy: 0.7067 - val_loss: 1.4013 - val_accuracy: 0.6638\n",
      "Epoch 5/10\n",
      "50/50 [==============================] - 1s 17ms/step - loss: 0.9361 - accuracy: 0.7655 - val_loss: 1.4054 - val_accuracy: 0.6686\n",
      "Epoch 6/10\n",
      "50/50 [==============================] - 1s 17ms/step - loss: 0.7411 - accuracy: 0.8141 - val_loss: 1.4203 - val_accuracy: 0.6824\n",
      "Epoch 7/10\n",
      "50/50 [==============================] - 1s 17ms/step - loss: 0.5846 - accuracy: 0.8494 - val_loss: 1.4799 - val_accuracy: 0.6868\n",
      "Epoch 8/10\n",
      "50/50 [==============================] - 1s 17ms/step - loss: 0.4616 - accuracy: 0.8817 - val_loss: 1.5710 - val_accuracy: 0.6827\n",
      "Epoch 9/10\n",
      "50/50 [==============================] - 1s 17ms/step - loss: 0.3756 - accuracy: 0.9055 - val_loss: 1.6331 - val_accuracy: 0.6876\n",
      "Epoch 10/10\n",
      "50/50 [==============================] - 1s 17ms/step - loss: 0.2844 - accuracy: 0.9287 - val_loss: 1.7206 - val_accuracy: 0.6824\n",
      "197/197 [==============================] - 1s 6ms/step - loss: 0.1732 - accuracy: 0.9612\n",
      "71/71 [==============================] - 0s 6ms/step - loss: 1.8361 - accuracy: 0.6656\n",
      "Train: 0.961, Test: 0.666\n"
     ]
    }
   ],
   "source": [
    "# Train your model here\n",
    "fifth_history =  transformers_model_2.fit(x_train, y_train, batch_size=128, epochs=10, validation_data=(x_val, y_val))\n",
    "_, train_acc = transformers_model_2.evaluate(x_train, y_train_, verbose=1)\n",
    "_, test_acc = transformers_model_2.evaluate(x_test, y_test_, verbose=1)\n",
    "print('Train: %.3f, Test: %.3f' % (train_acc, test_acc))"
   ]
  },
  {
   "cell_type": "code",
   "execution_count": 115,
   "metadata": {
    "id": "PbWM3GsInxLl"
   },
   "outputs": [],
   "source": [
    "def plot_history(history):\n",
    "    # Plot training & validation accuracy values\n",
    "    plt.plot(fifth_history.history['accuracy'])\n",
    "    plt.plot(fifth_history.history['val_accuracy'])\n",
    "    plt.title('Model accuracy')\n",
    "    plt.ylabel('Accuracy')\n",
    "    plt.xlabel('Epoch')\n",
    "    plt.legend(['Train', 'Val'], loc='upper left')\n",
    "    plt.show()\n",
    "\n",
    "    # Plot training & validation loss values\n",
    "    plt.plot(fifth_history.history['loss'])\n",
    "    plt.plot(fifth_history.history['val_loss'])\n",
    "    plt.title('Model loss')\n",
    "    plt.ylabel('Loss')\n",
    "    plt.xlabel('Epoch')\n",
    "    plt.legend(['Train', 'Val'], loc='upper left')\n",
    "    plt.show()"
   ]
  },
  {
   "cell_type": "code",
   "execution_count": 116,
   "metadata": {
    "colab": {
     "base_uri": "https://localhost:8080/",
     "height": 573
    },
    "id": "CtTBGSW8nxO5",
    "outputId": "9e724052-8d5e-4f8c-fa84-a11530f06608"
   },
   "outputs": [
    {
     "data": {
      "image/png": "[encoded data removed]",
      "text/plain": [
       "<Figure size 432x288 with 1 Axes>"
      ]
     },
     "metadata": {
      "needs_background": "light"
     },
     "output_type": "display_data"
    },
    {
     "data": {
      "image/png": "[encoded data removed]",
      "text/plain": [
       "<Figure size 432x288 with 1 Axes>"
      ]
     },
     "metadata": {
      "needs_background": "light"
     },
     "output_type": "display_data"
    }
   ],
   "source": [
    "plot_history(fifth_history)"
   ]
  },
  {
   "cell_type": "markdown",
   "metadata": {
    "id": "1z1yy-ocLOz2"
   },
   "source": [
    "**Are the results accordant to what you expected? Can you notice some differences between the RNN and the LSTM results? Why?**"
   ]
  },
  {
   "cell_type": "markdown",
   "metadata": {
    "id": "RBSFoih3xLBt"
   },
   "source": [
    "### <font color=\"blueviolet\">Comment and Analysis: <font color=\"navy\"> As it can be seen from the above part, transformer model has a significantly higher accuracy and better result on our date in comparison with the normal RNN. There is a point about RNN, and that is the fact that as I increased the number of layers in RNN, the performance did not increase and sometimes even it is tend to reduce the accuracy that I obtain by this model. This maybe shows that with simple one layer RNN we can interpret the data better as I mentioned in detail in the above parts. Another point to consider is about the number of neurons that I put in each layer. In the first data with only 8,16 neurons my model was able to learn but as this reuters data is bigger and more complecate than the first data and the problem is not binary classification, I used higher number of neurons (256 in this code) to achieve a better result. But all in all you can see that my model was not able to give the accuracy better than nearly 45% in the test data.On the other hand, looking at transformer model, we can see that this model has an acceptable accuracy on the rueters dataset with X% for test data. The reason why is that transformers are better than all the other architectures because they totally avoid recursion, by processing sentences as a whole and by learning relationships between words thanks to multi-head attention mechanisms and positional embeddings. For transformer model, due to its design can allow both data and model parallel training, the transformer is much more efficient than recurrent neural network such as LSTM. At the same time, the encoder-decoder architecture is also proposed to balance the effect and efficiency."
   ]
  }
 ],
 "metadata": {
  "accelerator": "GPU",
  "colab": {
   "collapsed_sections": [],
   "name": "TempNN.ipynb",
   "provenance": []
  },
  "kernelspec": {
   "display_name": "Python 3",
   "language": "python",
   "name": "python3"
  },
  "language_info": {
   "codemirror_mode": {
    "name": "ipython",
    "version": 3
   },
   "file_extension": ".py",
   "mimetype": "text/x-python",
   "name": "python",
   "nbconvert_exporter": "python",
   "pygments_lexer": "ipython3",
   "version": "3.8.8"
  }
 },
 "nbformat": 4,
 "nbformat_minor": 1
}
